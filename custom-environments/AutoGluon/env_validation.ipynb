{
 "cells": [
  {
   "cell_type": "markdown",
   "id": "07f18fcf-04de-4405-9c15-224becc96b24",
   "metadata": {},
   "source": [
    "# AutoGluon Environment Validation"
   ]
  },
  {
   "cell_type": "code",
   "execution_count": null,
   "id": "2bd01365-7921-4684-b4d6-d9ebc55e2e96",
   "metadata": {},
   "outputs": [],
   "source": [
    "%%writefile autogluon_cpu.yml\n",
    "# run: conda env create --file autogluon_cpu.yml\n",
    "name: autogluon_cpu\n",
    "dependencies:\n",
    "  - python=3.7\n",
    "  - conda\n",
    "  - pip\n",
    "  - liblapack\n",
    "  - mkl\n",
    "  - bokeh\n",
    "  - nodejs\n",
    "  - ipykernel\n",
    "  - pip:\n",
    "    - ipywidgets\n",
    "    - setuptools\n",
    "    - wheel\n",
    "    - mxnet<2.0.0\n",
    "    - autogluon"
   ]
  },
  {
   "cell_type": "code",
   "execution_count": null,
   "id": "13885941-3217-4b72-baf7-ed140ebffabc",
   "metadata": {},
   "outputs": [],
   "source": [
    "from autogluon.tabular import TabularDataset, TabularPredictor\n",
    "from IPython.display import HTML"
   ]
  },
  {
   "cell_type": "code",
   "execution_count": null,
   "id": "0caa3a29-f341-4e6f-ab27-c8bb6cc6dfe6",
   "metadata": {
    "scrolled": true,
    "tags": []
   },
   "outputs": [],
   "source": [
    "train_data = TabularDataset('https://autogluon.s3.amazonaws.com/datasets/Inc/train.csv')\n",
    "test_data = TabularDataset('https://autogluon.s3.amazonaws.com/datasets/Inc/test.csv')\n",
    "predictor = TabularPredictor(label='class', path='ag-default').fit(train_data, time_limit=120)  # Fit models for 120s\n",
    "leaderboard = predictor.leaderboard(test_data)"
   ]
  },
  {
   "cell_type": "code",
   "execution_count": null,
   "id": "888d191e-5dc9-4015-b7da-0f409f2d581c",
   "metadata": {},
   "outputs": [],
   "source": [
    "results = predictor.fit_summary()"
   ]
  },
  {
   "cell_type": "code",
   "execution_count": null,
   "id": "e8acc5ec-92e3-4bfe-8b02-413439b7d1c3",
   "metadata": {},
   "outputs": [],
   "source": [
    "HTML(filename='ag-default/SummaryOfModels.html')"
   ]
  }
 ],
 "metadata": {
  "kernelspec": {
   "display_name": "autogluon_cpu:Python",
   "language": "python",
   "name": "conda-env-autogluon_cpu-py"
  },
  "language_info": {
   "codemirror_mode": {
    "name": "ipython",
    "version": 3
   },
   "file_extension": ".py",
   "mimetype": "text/x-python",
   "name": "python",
   "nbconvert_exporter": "python",
   "pygments_lexer": "ipython3",
   "version": "3.7.12"
  }
 },
 "nbformat": 4,
 "nbformat_minor": 5
}
